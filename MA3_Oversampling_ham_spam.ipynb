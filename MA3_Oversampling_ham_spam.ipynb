{
  "nbformat": 4,
  "nbformat_minor": 0,
  "metadata": {
    "colab": {
      "provenance": [],
      "authorship_tag": "ABX9TyN1NOthuEYR1DqIRiLD0lQf",
      "include_colab_link": true
    },
    "kernelspec": {
      "name": "python3",
      "display_name": "Python 3"
    },
    "language_info": {
      "name": "python"
    }
  },
  "cells": [
    {
      "cell_type": "markdown",
      "metadata": {
        "id": "view-in-github",
        "colab_type": "text"
      },
      "source": [
        "<a href=\"https://colab.research.google.com/github/rajdeepbanerjee-git/Issues_with_SMOTE/blob/main/MA3_Oversampling_ham_spam.ipynb\" target=\"_parent\"><img src=\"https://colab.research.google.com/assets/colab-badge.svg\" alt=\"Open In Colab\"/></a>"
      ]
    },
    {
      "cell_type": "code",
      "source": [
        "# now we will setup faiss for vector search\n",
        "!pip install faiss-cpu\n",
        "\n",
        "# checking whether faiss is installed properly\n",
        "import faiss\n",
        "print(faiss.__version__)\n"
      ],
      "metadata": {
        "colab": {
          "base_uri": "https://localhost:8080/"
        },
        "id": "sGFpBA9pZUV2",
        "outputId": "159e6b0f-542f-4a0f-a93f-a75783d600c0"
      },
      "execution_count": 10,
      "outputs": [
        {
          "output_type": "stream",
          "name": "stdout",
          "text": [
            "Collecting faiss-cpu\n",
            "  Downloading faiss_cpu-1.8.0.post1-cp310-cp310-manylinux_2_17_x86_64.manylinux2014_x86_64.whl.metadata (3.7 kB)\n",
            "Requirement already satisfied: numpy<2.0,>=1.0 in /usr/local/lib/python3.10/dist-packages (from faiss-cpu) (1.26.4)\n",
            "Requirement already satisfied: packaging in /usr/local/lib/python3.10/dist-packages (from faiss-cpu) (24.1)\n",
            "Downloading faiss_cpu-1.8.0.post1-cp310-cp310-manylinux_2_17_x86_64.manylinux2014_x86_64.whl (27.0 MB)\n",
            "\u001b[2K   \u001b[90m━━━━━━━━━━━━━━━━━━━━━━━━━━━━━━━━━━━━━━━━\u001b[0m \u001b[32m27.0/27.0 MB\u001b[0m \u001b[31m55.8 MB/s\u001b[0m eta \u001b[36m0:00:00\u001b[0m\n",
            "\u001b[?25hInstalling collected packages: faiss-cpu\n",
            "Successfully installed faiss-cpu-1.8.0.post1\n",
            "1.8.0\n"
          ]
        }
      ]
    },
    {
      "cell_type": "code",
      "source": [
        "import numpy as np\n",
        "import pandas as pd\n",
        "\n",
        "from sklearn.feature_extraction.text import TfidfVectorizer\n",
        "from imblearn.over_sampling import SMOTE"
      ],
      "metadata": {
        "id": "TrYjXD_sAvGa"
      },
      "execution_count": 1,
      "outputs": []
    },
    {
      "cell_type": "markdown",
      "source": [
        "#### Please check the [notebook]( https://github.com/rajdeepbanerjee-git/Data_Augmentation_LLM/blob/main/MA2_p1_dataset_prep.ipynb) for data preparation. For ease of use, I am including the datasets used along with this repo."
      ],
      "metadata": {
        "id": "tG6DfbeJJuUU"
      }
    },
    {
      "cell_type": "code",
      "source": [
        "train_sample = pd.read_csv(\"/content/train.csv\")\n",
        "test_sample = pd.read_csv(\"/content/test.csv\")\n",
        "pool_sample = pd.read_csv(\"/content/pool.csv\")\n"
      ],
      "metadata": {
        "id": "w-svgqF-AvEJ"
      },
      "execution_count": 2,
      "outputs": []
    },
    {
      "cell_type": "markdown",
      "source": [
        "#### Hypothesis:\n",
        "SMOTE may create data points which are actually not available in the real-world as minority class. Rather, in the higher dimensional vector space, they might be closer to the majority class.\n",
        "\n",
        "To prove this:\n",
        "- We will first keep aside a data pool which serve as our real-world data (around 40% of the total data)\n",
        "- We will do a SMOTE and see how the model performs on the added synthetic data.\n",
        "- Then to see why it performed bad, we will calculate the cosine similarity search with the data pool, take the top similar data point from the pool that is similar to the synthetic minority sample and figure out the % of data points that are closer to the majority than the minority.\n",
        "- Higher the percentage, worse is the performance of SMOTE.\n",
        "\n",
        "This analysis is motivated from the paper [\"Stop oversampling for class imbalance learning\"](https://arxiv.org/abs/2202.03579). Although, I took a simpler approach than in the paper, but the result still holds true.\n"
      ],
      "metadata": {
        "id": "ErXTHA36vKTE"
      }
    },
    {
      "cell_type": "code",
      "source": [
        "# Initial class distribution before sampling\n",
        "\n",
        "train_sample['label'].value_counts(normalize = True).round(2)\n"
      ],
      "metadata": {
        "colab": {
          "base_uri": "https://localhost:8080/",
          "height": 178
        },
        "id": "4Bxc0w2beSRl",
        "outputId": "814864e6-59ed-4902-fb51-25d41ebfb2e8"
      },
      "execution_count": 3,
      "outputs": [
        {
          "output_type": "execute_result",
          "data": {
            "text/plain": [
              "label\n",
              "0    0.87\n",
              "1    0.13\n",
              "Name: proportion, dtype: float64"
            ],
            "text/html": [
              "<div>\n",
              "<style scoped>\n",
              "    .dataframe tbody tr th:only-of-type {\n",
              "        vertical-align: middle;\n",
              "    }\n",
              "\n",
              "    .dataframe tbody tr th {\n",
              "        vertical-align: top;\n",
              "    }\n",
              "\n",
              "    .dataframe thead th {\n",
              "        text-align: right;\n",
              "    }\n",
              "</style>\n",
              "<table border=\"1\" class=\"dataframe\">\n",
              "  <thead>\n",
              "    <tr style=\"text-align: right;\">\n",
              "      <th></th>\n",
              "      <th>proportion</th>\n",
              "    </tr>\n",
              "    <tr>\n",
              "      <th>label</th>\n",
              "      <th></th>\n",
              "    </tr>\n",
              "  </thead>\n",
              "  <tbody>\n",
              "    <tr>\n",
              "      <th>0</th>\n",
              "      <td>0.87</td>\n",
              "    </tr>\n",
              "    <tr>\n",
              "      <th>1</th>\n",
              "      <td>0.13</td>\n",
              "    </tr>\n",
              "  </tbody>\n",
              "</table>\n",
              "</div><br><label><b>dtype:</b> float64</label>"
            ]
          },
          "metadata": {},
          "execution_count": 3
        }
      ]
    },
    {
      "cell_type": "code",
      "source": [
        "# vectorize all the data\n",
        "vectorizer = TfidfVectorizer(min_df = 0.01)\n",
        "\n",
        "# Fit and transform the text data to create TF-IDF vectors\n",
        "train_tfidf_mat = vectorizer.fit_transform(train_sample['sms'])\n",
        "test_tfidf_mat = vectorizer.transform(test_sample['sms'])"
      ],
      "metadata": {
        "id": "arVs30fZZUe6"
      },
      "execution_count": 4,
      "outputs": []
    },
    {
      "cell_type": "code",
      "source": [
        "# baseline model\n",
        "from sklearn.naive_bayes import MultinomialNB\n",
        "from sklearn.metrics import accuracy_score, classification_report\n",
        "\n",
        "# Initialize the Multinomial Naive Bayes classifier\n",
        "nb_classifier = MultinomialNB()\n",
        "\n",
        "# Train the classifier on the training data\n",
        "nb_classifier.fit(train_tfidf_mat, train_sample['label'])\n",
        "\n",
        "# Make predictions on the testing data\n",
        "y_pred = nb_classifier.predict(test_tfidf_mat)\n",
        "\n",
        "# Calculate the accuracy of the classifier\n",
        "accuracy = accuracy_score(test_sample['label'], y_pred)\n",
        "print(f\"Accuracy: {accuracy.round(2)}\")\n",
        "\n",
        "# Print the classification report\n",
        "report = classification_report(test_sample['label'], y_pred)\n",
        "print(\"Classification Report:\")\n",
        "print(report)"
      ],
      "metadata": {
        "colab": {
          "base_uri": "https://localhost:8080/"
        },
        "id": "kTWR68_AsjUI",
        "outputId": "7ea66369-a5d7-4269-a680-a65e60cb5865"
      },
      "execution_count": 7,
      "outputs": [
        {
          "output_type": "stream",
          "name": "stdout",
          "text": [
            "Accuracy: 0.97\n",
            "Classification Report:\n",
            "              precision    recall  f1-score   support\n",
            "\n",
            "           0       0.97      1.00      0.99      1156\n",
            "           1       0.99      0.82      0.89       182\n",
            "\n",
            "    accuracy                           0.97      1338\n",
            "   macro avg       0.98      0.91      0.94      1338\n",
            "weighted avg       0.97      0.97      0.97      1338\n",
            "\n"
          ]
        }
      ]
    },
    {
      "cell_type": "code",
      "source": [
        "# oversample minority class\n",
        "smote = SMOTE(sampling_strategy = 'auto', random_state=42)\n",
        "y_train = train_sample['label']\n",
        "X_res_smote, y_res_smote = smote.fit_resample(train_tfidf_mat, y_train)\n",
        "\n",
        "# determine which are the synthetic samples\n",
        "\n",
        "# Convert to sets for comparison\n",
        "original_data = set(map(tuple, train_tfidf_mat.toarray()))\n",
        "resampled_data = set(map(tuple, X_res_smote.toarray()))\n",
        "\n",
        "# Find the synthetic samples (new data added by SMOTE)\n",
        "synthetic_samples = resampled_data - original_data\n",
        "synthetic_samples = np.array(list(synthetic_samples))\n",
        "\n",
        "print(\"Addeded data size:\", synthetic_samples.shape[0])"
      ],
      "metadata": {
        "collapsed": true,
        "id": "clWNx1JeZUb1",
        "colab": {
          "base_uri": "https://localhost:8080/"
        },
        "outputId": "b4413a2c-9d1a-4673-ffb3-e9eff01ac27f"
      },
      "execution_count": 5,
      "outputs": [
        {
          "output_type": "stream",
          "name": "stdout",
          "text": [
            "Addeded data size: 1327\n"
          ]
        }
      ]
    },
    {
      "cell_type": "code",
      "source": [
        "# retrain with augmented data - with sampling strategy 'auto'\n",
        "from sklearn.naive_bayes import MultinomialNB\n",
        "from sklearn.metrics import accuracy_score, classification_report\n",
        "\n",
        "# Initialize the Multinomial Naive Bayes classifier\n",
        "nb_classifier = MultinomialNB()\n",
        "\n",
        "# Train the classifier on the training data\n",
        "nb_classifier.fit(X_res_smote, y_res_smote)\n",
        "\n",
        "# Make predictions on the testing data\n",
        "y_pred = nb_classifier.predict(test_tfidf_mat)\n",
        "\n",
        "# Calculate the accuracy of the classifier\n",
        "accuracy = accuracy_score(test_sample['label'], y_pred)\n",
        "print(f\"Accuracy: {accuracy.round(2)}\")\n",
        "\n",
        "# Print the classification report\n",
        "report = classification_report(test_sample['label'], y_pred)\n",
        "print(\"Classification Report:\")\n",
        "print(report)\n"
      ],
      "metadata": {
        "colab": {
          "base_uri": "https://localhost:8080/"
        },
        "id": "EvNXDwNllo5t",
        "outputId": "810e786c-c6ca-4fc1-a202-67c06310ccee"
      },
      "execution_count": 8,
      "outputs": [
        {
          "output_type": "stream",
          "name": "stdout",
          "text": [
            "Accuracy: 0.93\n",
            "Classification Report:\n",
            "              precision    recall  f1-score   support\n",
            "\n",
            "           0       0.99      0.93      0.96      1156\n",
            "           1       0.68      0.94      0.79       182\n",
            "\n",
            "    accuracy                           0.93      1338\n",
            "   macro avg       0.84      0.94      0.87      1338\n",
            "weighted avg       0.95      0.93      0.94      1338\n",
            "\n"
          ]
        }
      ]
    },
    {
      "cell_type": "markdown",
      "source": [
        "The balanced dataset has worse results than the imbalanced one! It increased recall, but decreased precision!\n",
        "\n",
        "#### WHY?\n",
        " To understand, we will check whether the generated data-points are indeed from minority class.\n"
      ],
      "metadata": {
        "id": "i3BYEBzLnDPJ"
      }
    },
    {
      "cell_type": "code",
      "source": [
        "# transform the pool and add to faiss index to check similarity with the synthetic samples\n",
        "pool_sample_tfidf = vectorizer.transform(pool_sample['sms'])\n",
        "\n",
        "# Create the FAISS index, before that we need to convert the tfidf vectors in proper format needed for faiss\n",
        "# cosine similarity is used, can use ndexFlatIP for inner product based similarity\n",
        "pool_tfidf_emb = pool_sample_tfidf.toarray().astype('float32') # should be the embedding search space\n",
        "emb_len = pool_tfidf_emb.shape[1]\n",
        "index = faiss.IndexFlatIP(emb_len) # pass the length the embedding\n",
        "index.add(pool_tfidf_emb)  # Add embeddings to the index"
      ],
      "metadata": {
        "id": "IPyi_iaymEIg"
      },
      "execution_count": 11,
      "outputs": []
    },
    {
      "cell_type": "code",
      "source": [
        "# function to get top k similar data from the pool, that are similar to queries (FN cases)\n",
        "\n",
        "from tqdm import tqdm\n",
        "\n",
        "def get_top_k(queries_dense, faiss_index, k):\n",
        "\n",
        "    similar_indices = []\n",
        "    for i in tqdm(range(queries_dense.shape[0])):\n",
        "      query_vector = queries_dense[i].reshape(1, -1)\n",
        "      distances, indices = index.search(query_vector, k) # faiss index search\n",
        "      similar_indices.append({\"indices\": indices, \"distances\":distances})\n",
        "    sim_ind_df = pd.DataFrame(similar_indices)\n",
        "\n",
        "    return sim_ind_df"
      ],
      "metadata": {
        "id": "51xhEus4Au5-"
      },
      "execution_count": 12,
      "outputs": []
    },
    {
      "cell_type": "code",
      "source": [
        "# use the function to get top k similar data indices\n",
        "sim_ind_df_pool = get_top_k(queries_dense = synthetic_samples, faiss_index = index, k = 1)"
      ],
      "metadata": {
        "colab": {
          "base_uri": "https://localhost:8080/"
        },
        "id": "c3Ee9nbymEAb",
        "outputId": "ed2c15ee-cb94-4709-e78a-a275122bd6ea"
      },
      "execution_count": 13,
      "outputs": [
        {
          "output_type": "stream",
          "name": "stderr",
          "text": [
            "100%|██████████| 1327/1327 [00:00<00:00, 8444.66it/s]\n"
          ]
        }
      ]
    },
    {
      "cell_type": "code",
      "source": [
        "# get the counts of the labels corresponding to the most similar examples from pool data\n",
        "results = pool_sample.iloc[sim_ind_df_pool['indices']]['label'].value_counts().to_dict()\n",
        "\n",
        "# calculate the error percentage\n",
        "error = 100*results[0]/(results[0] + results[1])\n",
        "print(f\"error: {round(error, 2)}\")"
      ],
      "metadata": {
        "colab": {
          "base_uri": "https://localhost:8080/"
        },
        "id": "VrG4IzxUmD4a",
        "outputId": "5f3b1b69-23d8-4786-c6d7-a1b8bec11f31"
      },
      "execution_count": 14,
      "outputs": [
        {
          "output_type": "stream",
          "name": "stdout",
          "text": [
            "error: 11.91\n"
          ]
        }
      ]
    },
    {
      "cell_type": "markdown",
      "source": [
        "When we check the similarity score with pool data - we find ~ 12% of generated samples are closer to majority than minority. This is what decreases the performance of the model."
      ],
      "metadata": {
        "id": "Woq7d-y9ptm7"
      }
    },
    {
      "cell_type": "code",
      "source": [],
      "metadata": {
        "id": "XvApaPYpmDmE"
      },
      "execution_count": null,
      "outputs": []
    }
  ]
}